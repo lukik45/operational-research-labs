{
 "cells": [
  {
   "cell_type": "markdown",
   "metadata": {},
   "source": [
    "# Lab 11 - Job Scheduling"
   ]
  },
  {
   "attachments": {},
   "cell_type": "markdown",
   "metadata": {},
   "source": [
    "Information on group members:\n",
    "\n",
    "1) 148257, Daniel Jankowski <br>\n",
    "2) Student ID, Name and last name"
   ]
  },
  {
   "cell_type": "code",
   "execution_count": 225,
   "metadata": {},
   "outputs": [],
   "source": [
    "%matplotlib inline\n",
    "import numpy as np\n",
    "import matplotlib.pyplot as plt\n",
    "import pandas as pd\n",
    "from matplotlib.colors import LinearSegmentedColormap\n",
    "import colorsys\n",
    "from typing import Dict, List\n",
    "import random"
   ]
  },
  {
   "cell_type": "markdown",
   "metadata": {},
   "source": [
    "1) Your task is to propose a few 3-5 simple heuristics for solving Flow-shop scheduling problems. When the number of machines equals 2, you can compare your heuristics with Johnson's algorithm (the implementation is straightforward).\n",
    " - Consider no due times or release times (hence \\beta = empty). \n",
    " - Consider the number of machines (e.g., from 2 to 10) and jobs (e.g., from 5 to 100) as the main parameters for your experimental setting. \n",
    " - Within each setting, generate 20 random problem instances, i.e., processing times for the jobs. \n",
    " - Perform the experiments and average the results (report the results). As the optimization criterion, consider the max completion time. \n",
    " - Compare your heuristics and derive conclusions. \n",
    " - For some experimental settings, plot example schedules on Gantt charts. "
   ]
  },
  {
   "cell_type": "code",
   "execution_count": 218,
   "metadata": {},
   "outputs": [],
   "source": [
    "N = 4 # number of jobs\n",
    "M = 2 # number of machines\n",
    "P = dict()\n",
    "P[1] = [1,2]\n",
    "P[2] = [2,1]\n",
    "P[3] = [2,2]\n",
    "P[4] = [2,3] # processing times"
   ]
  },
  {
   "cell_type": "code",
   "execution_count": 219,
   "metadata": {},
   "outputs": [],
   "source": [
    "def johnson(n, m, p):\n",
    "    n1 = dict()\n",
    "    n2 = dict()\n",
    "    for job, times in p.items():\n",
    "        if times[0] < times[1]:\n",
    "            n1[job] = times\n",
    "        else:\n",
    "            n2[job] = times\n",
    "    n1 = {k: v for k, v in sorted(n1.items(), key=lambda item: item[1][0])}\n",
    "    n2 = {k: v for k, v in sorted(n2.items(), key=lambda item: item[1][1], reverse=True)}\n",
    "    merged = n1 | n2\n",
    "\n",
    "    schedule = dict()\n",
    "    schedule[\"job\"] = []\n",
    "    schedule[\"Start\"] = []\n",
    "    schedule[\"Finish\"] = []\n",
    "    schedule[\"machine\"] = []\n",
    "\n",
    "\n",
    "    first_machine_in_time = 0\n",
    "    second_machine_in_time = 0\n",
    "    for inx, (job, times) in enumerate(merged.items()):\n",
    "        schedule[\"job\"].append(job)\n",
    "        schedule[\"Start\"].append(first_machine_in_time)\n",
    "        schedule[\"Finish\"].append(first_machine_in_time+times[0])\n",
    "        schedule[\"machine\"].append(1)\n",
    "        first_machine_in_time = schedule[\"Finish\"][-1]\n",
    "\n",
    "        schedule[\"job\"].append(job)\n",
    "        schedule[\"Start\"].append(max(second_machine_in_time, schedule[\"Finish\"][-1]))\n",
    "        schedule[\"Finish\"].append(schedule[\"Start\"][-1]+times[1])\n",
    "        schedule[\"machine\"].append(2)\n",
    "        second_machine_in_time = schedule[\"Finish\"][-1]\n",
    "    return pd.DataFrame.from_dict(schedule)\n"
   ]
  },
  {
   "cell_type": "code",
   "execution_count": 220,
   "metadata": {},
   "outputs": [],
   "source": [
    "schedule = johnson(N, M, P)"
   ]
  },
  {
   "cell_type": "code",
   "execution_count": 221,
   "metadata": {},
   "outputs": [
    {
     "data": {
      "text/html": [
       "<div>\n",
       "<style scoped>\n",
       "    .dataframe tbody tr th:only-of-type {\n",
       "        vertical-align: middle;\n",
       "    }\n",
       "\n",
       "    .dataframe tbody tr th {\n",
       "        vertical-align: top;\n",
       "    }\n",
       "\n",
       "    .dataframe thead th {\n",
       "        text-align: right;\n",
       "    }\n",
       "</style>\n",
       "<table border=\"1\" class=\"dataframe\">\n",
       "  <thead>\n",
       "    <tr style=\"text-align: right;\">\n",
       "      <th></th>\n",
       "      <th>job</th>\n",
       "      <th>Start</th>\n",
       "      <th>Finish</th>\n",
       "      <th>machine</th>\n",
       "    </tr>\n",
       "  </thead>\n",
       "  <tbody>\n",
       "    <tr>\n",
       "      <th>0</th>\n",
       "      <td>1</td>\n",
       "      <td>0</td>\n",
       "      <td>1</td>\n",
       "      <td>1</td>\n",
       "    </tr>\n",
       "    <tr>\n",
       "      <th>1</th>\n",
       "      <td>1</td>\n",
       "      <td>1</td>\n",
       "      <td>3</td>\n",
       "      <td>2</td>\n",
       "    </tr>\n",
       "    <tr>\n",
       "      <th>2</th>\n",
       "      <td>4</td>\n",
       "      <td>1</td>\n",
       "      <td>3</td>\n",
       "      <td>1</td>\n",
       "    </tr>\n",
       "    <tr>\n",
       "      <th>3</th>\n",
       "      <td>4</td>\n",
       "      <td>3</td>\n",
       "      <td>6</td>\n",
       "      <td>2</td>\n",
       "    </tr>\n",
       "    <tr>\n",
       "      <th>4</th>\n",
       "      <td>3</td>\n",
       "      <td>3</td>\n",
       "      <td>5</td>\n",
       "      <td>1</td>\n",
       "    </tr>\n",
       "    <tr>\n",
       "      <th>5</th>\n",
       "      <td>3</td>\n",
       "      <td>6</td>\n",
       "      <td>8</td>\n",
       "      <td>2</td>\n",
       "    </tr>\n",
       "    <tr>\n",
       "      <th>6</th>\n",
       "      <td>2</td>\n",
       "      <td>5</td>\n",
       "      <td>7</td>\n",
       "      <td>1</td>\n",
       "    </tr>\n",
       "    <tr>\n",
       "      <th>7</th>\n",
       "      <td>2</td>\n",
       "      <td>8</td>\n",
       "      <td>9</td>\n",
       "      <td>2</td>\n",
       "    </tr>\n",
       "  </tbody>\n",
       "</table>\n",
       "</div>"
      ],
      "text/plain": [
       "   job  Start  Finish  machine\n",
       "0    1      0       1        1\n",
       "1    1      1       3        2\n",
       "2    4      1       3        1\n",
       "3    4      3       6        2\n",
       "4    3      3       5        1\n",
       "5    3      6       8        2\n",
       "6    2      5       7        1\n",
       "7    2      8       9        2"
      ]
     },
     "execution_count": 221,
     "metadata": {},
     "output_type": "execute_result"
    }
   ],
   "source": [
    "schedule"
   ]
  },
  {
   "cell_type": "code",
   "execution_count": 222,
   "metadata": {},
   "outputs": [],
   "source": [
    "def rand_cmap(nlabels, type='bright', first_color_black=True, last_color_black=False, verbose=True):\n",
    "    \"\"\"\n",
    "    Creates a random colormap to be used together with matplotlib. Useful for segmentation tasks\n",
    "    :param nlabels: Number of labels (size of colormap)\n",
    "    :param type: 'bright' for strong colors, 'soft' for pastel colors\n",
    "    :param first_color_black: Option to use first color as black, True or False\n",
    "    :param last_color_black: Option to use last color as black, True or False\n",
    "    :param verbose: Prints the number of labels and shows the colormap. True or False\n",
    "    :return: colormap for matplotlib\n",
    "    \"\"\"\n",
    "    \n",
    "\n",
    "\n",
    "    if type not in ('bright', 'soft'):\n",
    "        print ('Please choose \"bright\" or \"soft\" for type')\n",
    "        return\n",
    "\n",
    "    # if verbose:\n",
    "    #     print('Number of labels: ' + str(nlabels))\n",
    "\n",
    "    # Generate color map for bright colors, based on hsv\n",
    "    if type == 'bright':\n",
    "        randHSVcolors = [(np.random.uniform(low=0.0, high=1),\n",
    "                          np.random.uniform(low=0.2, high=1),\n",
    "                          np.random.uniform(low=0.9, high=1)) for i in range(nlabels)]\n",
    "\n",
    "        # Convert HSV list to RGB\n",
    "        randRGBcolors = []\n",
    "        for HSVcolor in randHSVcolors:\n",
    "            randRGBcolors.append(colorsys.hsv_to_rgb(HSVcolor[0], HSVcolor[1], HSVcolor[2]))\n",
    "\n",
    "        if first_color_black:\n",
    "            randRGBcolors[0] = [0, 0, 0]\n",
    "\n",
    "        if last_color_black:\n",
    "            randRGBcolors[-1] = [0, 0, 0]\n",
    "\n",
    "        random_colormap = LinearSegmentedColormap.from_list('new_map', randRGBcolors, N=nlabels)\n",
    "\n",
    "    # Generate soft pastel colors, by limiting the RGB spectrum\n",
    "    if type == 'soft':\n",
    "        low = 0.6\n",
    "        high = 0.95\n",
    "        randRGBcolors = [(np.random.uniform(low=low, high=high),\n",
    "                          np.random.uniform(low=low, high=high),\n",
    "                          np.random.uniform(low=low, high=high)) for i in range(nlabels)]\n",
    "\n",
    "        if first_color_black:\n",
    "            randRGBcolors[0] = [0, 0, 0]\n",
    "\n",
    "        if last_color_black:\n",
    "            randRGBcolors[-1] = [0, 0, 0]\n",
    "        random_colormap = LinearSegmentedColormap.from_list('new_map', randRGBcolors, N=nlabels)\n",
    "\n",
    "    # Display colorbar\n",
    "    if verbose:\n",
    "        from matplotlib import colors, colorbar\n",
    "        from matplotlib import pyplot as plt\n",
    "        fig, ax = plt.subplots(1, 1, figsize=(15, 0.5))\n",
    "\n",
    "        bounds = np.linspace(0, nlabels, nlabels + 1)\n",
    "        norm = colors.BoundaryNorm(bounds, nlabels)\n",
    "\n",
    "        cb = colorbar.ColorbarBase(ax, cmap=random_colormap, norm=norm, spacing='proportional', ticks=None,\n",
    "                                   boundaries=bounds, format='%1i', orientation=u'horizontal')\n",
    "\n",
    "    return random_colormap"
   ]
  },
  {
   "cell_type": "code",
   "execution_count": 110,
   "metadata": {},
   "outputs": [
    {
     "data": {
      "image/png": "[encoded data removed]",
      "text/plain": [
       "<Figure size 1500x50 with 1 Axes>"
      ]
     },
     "metadata": {},
     "output_type": "display_data"
    }
   ],
   "source": [
    "tasks_colors = rand_cmap(nlabels = 100, verbose = True, type=\"bright\", first_color_black=False)"
   ]
  },
  {
   "cell_type": "code",
   "execution_count": 223,
   "metadata": {},
   "outputs": [],
   "source": [
    "def draw_schedule(schedule: pd.DataFrame, title: str=\"\", color_map=tasks_colors) -> None:\n",
    "\n",
    "\n",
    "    n_machines = schedule['machine'].max()\n",
    "    n_tasks = schedule['job'].max()\n",
    "\n",
    "    fig, gnt = plt.subplots()\n",
    "    gnt.set_xlim(0, schedule['Finish'].max())\n",
    "    gnt.set_ylim(0, n_machines)\n",
    "    gnt.set_xlabel(\"Processing time\")\n",
    "    gnt.set_ylabel(\"Machine\")\n",
    "\n",
    "    bar_y_pos = n_machines * 2.5\n",
    "    for machine in range(1, n_machines+1):\n",
    "        machine_schedule = schedule[schedule['machine'] == machine]\n",
    "        task_bars = []\n",
    "        colors_bars = []\n",
    "        jobs_name_list = machine_schedule['job'].tolist()\n",
    "        for _, row in machine_schedule.iterrows():\n",
    "            task_start = row['Start']\n",
    "            task_duration = row[\"Finish\"] - row['Start']\n",
    "            task_bars.append((task_start, task_duration))\n",
    "            colors_bars.append(color_map(row['job']-1))\n",
    "        # print(colors_bars)\n",
    "        gnt.broken_barh(xranges=task_bars, yrange=(bar_y_pos, 1), facecolors=(colors_bars))\n",
    "        for inx, (x1, x2) in enumerate(task_bars):\n",
    "            gnt.text(x=x1 + x2/2,\n",
    "            y=bar_y_pos + 0.5,\n",
    "            s=\"J\"+str(jobs_name_list[inx]),\n",
    "            ha='center',\n",
    "            va='center',\n",
    "            color=\"black\")\n",
    "        bar_y_pos -= 1.0\n",
    "        \n",
    "    gnt.grid(True)    \n",
    "    gnt.set_title(title) \n",
    "    gnt.set_yticks(np.arange(2.5, 2.5 * n_machines*2, 5))\n",
    "    # gnt.set_yticklabels([machine for machine in range(n_machines, 0, -1)])"
   ]
  },
  {
   "cell_type": "code",
   "execution_count": 224,
   "metadata": {},
   "outputs": [
    {
     "data": {
      "image/png": "[encoded data removed]",
      "text/plain": [
       "<Figure size 640x480 with 1 Axes>"
      ]
     },
     "metadata": {},
     "output_type": "display_data"
    }
   ],
   "source": [
    "draw_schedule(schedule)"
   ]
  },
  {
   "attachments": {},
   "cell_type": "markdown",
   "metadata": {},
   "source": [
    "# Datasets #"
   ]
  },
  {
   "attachments": {},
   "cell_type": "markdown",
   "metadata": {},
   "source": [
    "## Generating random instances of the problem ##"
   ]
  },
  {
   "cell_type": "code",
   "execution_count": 231,
   "metadata": {},
   "outputs": [],
   "source": [
    "def generate_random_instance(n: int, m: int, max_proc_time: int=10) -> Dict[int, List[int]]:\n",
    "    P = dict()\n",
    "    for task in range(1, n+1):\n",
    "        P[task] = random.sample(range(1, max_proc_time+1), m)\n",
    "    return P"
   ]
  },
  {
   "attachments": {},
   "cell_type": "markdown",
   "metadata": {},
   "source": [
    "## Small datasets ##"
   ]
  },
  {
   "cell_type": "code",
   "execution_count": 227,
   "metadata": {},
   "outputs": [],
   "source": [
    "small_datasets = []\n",
    "N = [5,10,15] # experiment fo 5,10,15 tasks\n",
    "M = [2,3,4] # experiment for 2,3,4 machines\n",
    "\n",
    "i = 20\n",
    "\n",
    "for n, m in zip(N, M):\n",
    "    for _ in range(i):\n",
    "        p = generate_random_instance(n, m)\n",
    "        small_datasets.append((n, m, p))"
   ]
  },
  {
   "attachments": {},
   "cell_type": "markdown",
   "metadata": {},
   "source": [
    "## Medium datasets ##"
   ]
  },
  {
   "cell_type": "code",
   "execution_count": 232,
   "metadata": {},
   "outputs": [],
   "source": [
    "medium_datasets = []\n",
    "N = [20,30,50] # experiment for 20, 30, 50 tasks\n",
    "M = [5,6,7] # experiment for 5,6,7 machines\n",
    "\n",
    "i = 20\n",
    "\n",
    "for n, m in zip(N, M):\n",
    "    for _ in range(i):\n",
    "        p = generate_random_instance(n, m, max_proc_time=15)\n",
    "        medium_datasets.append((n, m, p))"
   ]
  },
  {
   "attachments": {},
   "cell_type": "markdown",
   "metadata": {},
   "source": [
    "## Large datasets ##"
   ]
  },
  {
   "cell_type": "code",
   "execution_count": 234,
   "metadata": {},
   "outputs": [],
   "source": [
    "large_datasets = []\n",
    "N = [60,75,100] # experiment for 60,75,100 tasks\n",
    "M = [8,9,10] # experiment for 8,9,10 machines\n",
    "\n",
    "i = 20\n",
    "\n",
    "for n, m in zip(N, M):\n",
    "    for _ in range(i):\n",
    "        p = generate_random_instance(n, m, max_proc_time=25)\n",
    "        large_datasets.append((n, m, p))"
   ]
  },
  {
   "attachments": {},
   "cell_type": "markdown",
   "metadata": {},
   "source": [
    "# Longest total time first #"
   ]
  },
  {
   "attachments": {},
   "cell_type": "markdown",
   "metadata": {},
   "source": [
    "For each task compute its total processing time. Sort tasks desceding by computed total time. Perform tasks sequentially."
   ]
  },
  {
   "cell_type": "code",
   "execution_count": 237,
   "metadata": {},
   "outputs": [],
   "source": [
    "def LTTF(n: int, m: int, P: Dict[int, List[int]]) -> pd.DataFrame:\n",
    "    \n",
    "    sorted_jobs = {k: v for k, v in sorted(P.items(), key=lambda x: sum(x[1]), reverse=True)}\n",
    "    schedule = dict()\n",
    "    schedule[\"job\"] = []\n",
    "    schedule[\"Start\"] = []\n",
    "    schedule[\"Finish\"] = []\n",
    "    schedule[\"machine\"] = []\n",
    "\n",
    "    machines_in_times = [0 for machine in range(m)]\n",
    "    for inx, (job, task_times) in enumerate(sorted_jobs.items()):\n",
    "        # we can setup first machine times, becuase it is independent\n",
    "        schedule[\"job\"].append(job)\n",
    "        schedule[\"Start\"].append(machines_in_times[0]) # machines_in_times[0] of actual in_time for first machine\n",
    "        schedule[\"Finish\"].append(schedule[\"Start\"][-1] + task_times[0])\n",
    "        schedule[\"machine\"].append(1)\n",
    "        machines_in_times[0] = schedule[\"Finish\"][-1]        \n",
    "\n",
    "        # iterate over the rest machines. Each machine is dependent on the previous one\n",
    "        for machine in range (1, len(task_times)):\n",
    "            schedule[\"job\"].append(job)\n",
    "            schedule[\"Start\"].append(max(machines_in_times[machine], schedule[\"Finish\"][-1]))\n",
    "            schedule[\"Finish\"].append(schedule[\"Start\"][-1] + task_times[machine])\n",
    "            schedule[\"machine\"].append(machine+1)\n",
    "            machines_in_times[machine] = schedule[\"Finish\"][-1]\n",
    "    return pd.DataFrame.from_dict(schedule), schedule[\"Finish\"][-1]\n",
    "        \n",
    "        "
   ]
  },
  {
   "attachments": {},
   "cell_type": "markdown",
   "metadata": {},
   "source": [
    "## Performance ##"
   ]
  },
  {
   "attachments": {},
   "cell_type": "markdown",
   "metadata": {},
   "source": [
    "### Small dataset ###"
   ]
  },
  {
   "cell_type": "code",
   "execution_count": 248,
   "metadata": {},
   "outputs": [
    {
     "name": "stdout",
     "output_type": "stream",
     "text": [
      "Average Cmax for 5 tasks and 2 machines:  37.7\n",
      "Average Cmax for 10 tasks and 3 machines:  81.4\n",
      "Average Cmax for 15 tasks and 4 machines:  120.5\n"
     ]
    }
   ],
   "source": [
    "results = np.zeros(shape=(60,))\n",
    "for inx, set in enumerate(small_datasets):\n",
    "    n, m, p = set\n",
    "    results[inx] = LTTF(n,m,p)[1]\n",
    "\n",
    "set_1_mean = np.mean(results[:20])\n",
    "set_2_mean = np.mean(results[20:40])\n",
    "set_3_mean = np.mean(results[40:])\n",
    "\n",
    "print(\"Average Cmax for 5 tasks and 2 machines: \", set_1_mean)\n",
    "print(\"Average Cmax for 10 tasks and 3 machines: \", set_2_mean)\n",
    "print(\"Average Cmax for 15 tasks and 4 machines: \", set_3_mean)\n",
    "\n",
    "small_means = [set_1_mean, set_2_mean, set_3_mean]"
   ]
  },
  {
   "attachments": {},
   "cell_type": "markdown",
   "metadata": {},
   "source": [
    "### Medium dataset ###"
   ]
  },
  {
   "cell_type": "code",
   "execution_count": 251,
   "metadata": {},
   "outputs": [
    {
     "name": "stdout",
     "output_type": "stream",
     "text": [
      "Average Cmax for 20 tasks and 5 machines:  244.0\n",
      "Average Cmax for 30 tasks and 6 machines:  354.55\n",
      "Average Cmax for 50 tasks and 7 machines:  555.4\n"
     ]
    }
   ],
   "source": [
    "results = np.zeros(shape=(60,))\n",
    "for inx, set in enumerate(medium_datasets):\n",
    "    n, m, p = set\n",
    "    results[inx] = LTTF(n,m,p)[1]\n",
    "\n",
    "set_1_mean = np.mean(results[:20])\n",
    "set_2_mean = np.mean(results[20:40])\n",
    "set_3_mean = np.mean(results[40:])\n",
    "\n",
    "print(\"Average Cmax for 20 tasks and 5 machines: \", set_1_mean)\n",
    "print(\"Average Cmax for 30 tasks and 6 machines: \", set_2_mean)\n",
    "print(\"Average Cmax for 50 tasks and 7 machines: \", set_3_mean)\n",
    "\n",
    "medium_means = [set_1_mean, set_2_mean, set_3_mean]"
   ]
  },
  {
   "attachments": {},
   "cell_type": "markdown",
   "metadata": {},
   "source": [
    "### Large dataset ###"
   ]
  },
  {
   "cell_type": "code",
   "execution_count": 252,
   "metadata": {},
   "outputs": [
    {
     "name": "stdout",
     "output_type": "stream",
     "text": [
      "Average Cmax for 60 tasks and 8 machines:  1082.35\n",
      "Average Cmax for 75 tasks and 9 machines:  1337.75\n",
      "Average Cmax for 100 tasks and 10 machines:  1737.15\n"
     ]
    }
   ],
   "source": [
    "results = np.zeros(shape=(60,))\n",
    "for inx, set in enumerate(large_datasets):\n",
    "    n, m, p = set\n",
    "    results[inx] = LTTF(n,m,p)[1]\n",
    "\n",
    "set_1_mean = np.mean(results[:20])\n",
    "set_2_mean = np.mean(results[20:40])\n",
    "set_3_mean = np.mean(results[40:])\n",
    "\n",
    "print(\"Average Cmax for 60 tasks and 8 machines: \", set_1_mean)\n",
    "print(\"Average Cmax for 75 tasks and 9 machines: \", set_2_mean)\n",
    "print(\"Average Cmax for 100 tasks and 10 machines: \", set_3_mean)\n",
    "\n",
    "large_means = [set_1_mean, set_2_mean, set_3_mean]"
   ]
  },
  {
   "cell_type": "code",
   "execution_count": 253,
   "metadata": {},
   "outputs": [],
   "source": [
    "lttf_results = small_means + medium_means + large_means # save results for future comparison"
   ]
  },
  {
   "attachments": {},
   "cell_type": "markdown",
   "metadata": {},
   "source": [
    "# Shortest total time first #"
   ]
  },
  {
   "cell_type": "code",
   "execution_count": 254,
   "metadata": {},
   "outputs": [],
   "source": [
    "def STTF(n: int, m: int, P: Dict[int, List[int]]) -> pd.DataFrame:\n",
    "    \n",
    "    sorted_jobs = {k: v for k, v in sorted(P.items(), key=lambda x: sum(x[1]))}\n",
    "    schedule = dict()\n",
    "    schedule[\"job\"] = []\n",
    "    schedule[\"Start\"] = []\n",
    "    schedule[\"Finish\"] = []\n",
    "    schedule[\"machine\"] = []\n",
    "\n",
    "    machines_in_times = [0 for machine in range(m)]\n",
    "    for inx, (job, task_times) in enumerate(sorted_jobs.items()):\n",
    "        # we can setup first machine times, becuase it is independent\n",
    "        schedule[\"job\"].append(job)\n",
    "        schedule[\"Start\"].append(machines_in_times[0]) # machines_in_times[0] of actual in_time for first machine\n",
    "        schedule[\"Finish\"].append(schedule[\"Start\"][-1] + task_times[0])\n",
    "        schedule[\"machine\"].append(1)\n",
    "        machines_in_times[0] = schedule[\"Finish\"][-1]        \n",
    "\n",
    "        # iterate over the rest machines. Each machine is dependent on the previous one\n",
    "        for machine in range (1, len(task_times)):\n",
    "            schedule[\"job\"].append(job)\n",
    "            schedule[\"Start\"].append(max(machines_in_times[machine], schedule[\"Finish\"][-1]))\n",
    "            schedule[\"Finish\"].append(schedule[\"Start\"][-1] + task_times[machine])\n",
    "            schedule[\"machine\"].append(machine+1)\n",
    "            machines_in_times[machine] = schedule[\"Finish\"][-1]\n",
    "    return pd.DataFrame.from_dict(schedule), schedule[\"Finish\"][-1]"
   ]
  },
  {
   "attachments": {},
   "cell_type": "markdown",
   "metadata": {},
   "source": [
    "## Performance ##"
   ]
  },
  {
   "cell_type": "code",
   "execution_count": 272,
   "metadata": {},
   "outputs": [
    {
     "name": "stdout",
     "output_type": "stream",
     "text": [
      "Average Cmax for 5 tasks and 2 machines:  38.5\n",
      "Average Cmax for 10 tasks and 3 machines:  79.4\n",
      "Average Cmax for 15 tasks and 4 machines:  120.2\n"
     ]
    }
   ],
   "source": [
    "results = np.zeros(shape=(60,))\n",
    "for inx, set in enumerate(small_datasets):\n",
    "    n, m, p = set\n",
    "    results[inx] = STTF(n,m,p)[1]\n",
    "\n",
    "set_1_mean = np.mean(results[:20])\n",
    "set_2_mean = np.mean(results[20:40])\n",
    "set_3_mean = np.mean(results[40:])\n",
    "\n",
    "print(\"Average Cmax for 5 tasks and 2 machines: \", set_1_mean)\n",
    "print(\"Average Cmax for 10 tasks and 3 machines: \", set_2_mean)\n",
    "print(\"Average Cmax for 15 tasks and 4 machines: \", set_3_mean)\n",
    "\n",
    "small_means = [set_1_mean, set_2_mean, set_3_mean]"
   ]
  },
  {
   "cell_type": "code",
   "execution_count": 273,
   "metadata": {},
   "outputs": [
    {
     "name": "stdout",
     "output_type": "stream",
     "text": [
      "Average Cmax for 20 tasks and 5 machines:  236.7\n",
      "Average Cmax for 30 tasks and 6 machines:  352.05\n",
      "Average Cmax for 50 tasks and 7 machines:  554.9\n"
     ]
    }
   ],
   "source": [
    "results = np.zeros(shape=(60,))\n",
    "for inx, set in enumerate(medium_datasets):\n",
    "    n, m, p = set\n",
    "    results[inx] = STTF(n,m,p)[1]\n",
    "\n",
    "set_1_mean = np.mean(results[:20])\n",
    "set_2_mean = np.mean(results[20:40])\n",
    "set_3_mean = np.mean(results[40:])\n",
    "\n",
    "print(\"Average Cmax for 20 tasks and 5 machines: \", set_1_mean)\n",
    "print(\"Average Cmax for 30 tasks and 6 machines: \", set_2_mean)\n",
    "print(\"Average Cmax for 50 tasks and 7 machines: \", set_3_mean)\n",
    "\n",
    "medium_means = [set_1_mean, set_2_mean, set_3_mean]"
   ]
  },
  {
   "cell_type": "code",
   "execution_count": 274,
   "metadata": {},
   "outputs": [
    {
     "name": "stdout",
     "output_type": "stream",
     "text": [
      "Average Cmax for 60 tasks and 8 machines:  1084.4\n",
      "Average Cmax for 75 tasks and 9 machines:  1338.2\n",
      "Average Cmax for 100 tasks and 10 machines:  1740.0\n"
     ]
    }
   ],
   "source": [
    "results = np.zeros(shape=(60,))\n",
    "for inx, set in enumerate(large_datasets):\n",
    "    n, m, p = set\n",
    "    results[inx] = STTF(n,m,p)[1]\n",
    "\n",
    "set_1_mean = np.mean(results[:20])\n",
    "set_2_mean = np.mean(results[20:40])\n",
    "set_3_mean = np.mean(results[40:])\n",
    "\n",
    "print(\"Average Cmax for 60 tasks and 8 machines: \", set_1_mean)\n",
    "print(\"Average Cmax for 75 tasks and 9 machines: \", set_2_mean)\n",
    "print(\"Average Cmax for 100 tasks and 10 machines: \", set_3_mean)\n",
    "\n",
    "large_means = [set_1_mean, set_2_mean, set_3_mean]"
   ]
  },
  {
   "cell_type": "code",
   "execution_count": 275,
   "metadata": {},
   "outputs": [],
   "source": [
    "sttf_results = small_means + medium_means + large_means # save results for future comparison"
   ]
  },
  {
   "attachments": {},
   "cell_type": "markdown",
   "metadata": {},
   "source": [
    "# Highest standard deviation first #\n"
   ]
  },
  {
   "cell_type": "code",
   "execution_count": 264,
   "metadata": {},
   "outputs": [],
   "source": [
    "def HSDF(n: int, m: int, P: Dict[int, List[int]]) -> pd.DataFrame:\n",
    "    \n",
    "    sorted_jobs = {k: v for k, v in sorted(P.items(), key=lambda x: np.std(x[1]), reverse=True)}\n",
    "    schedule = dict()\n",
    "    schedule[\"job\"] = []\n",
    "    schedule[\"Start\"] = []\n",
    "    schedule[\"Finish\"] = []\n",
    "    schedule[\"machine\"] = []\n",
    "\n",
    "    machines_in_times = [0 for machine in range(m)]\n",
    "    for inx, (job, task_times) in enumerate(sorted_jobs.items()):\n",
    "        # we can setup first machine times, becuase it is independent\n",
    "        schedule[\"job\"].append(job)\n",
    "        schedule[\"Start\"].append(machines_in_times[0]) # machines_in_times[0] of actual in_time for first machine\n",
    "        schedule[\"Finish\"].append(schedule[\"Start\"][-1] + task_times[0])\n",
    "        schedule[\"machine\"].append(1)\n",
    "        machines_in_times[0] = schedule[\"Finish\"][-1]        \n",
    "\n",
    "        # iterate over the rest machines. Each machine is dependent on the previous one\n",
    "        for machine in range (1, len(task_times)):\n",
    "            schedule[\"job\"].append(job)\n",
    "            schedule[\"Start\"].append(max(machines_in_times[machine], schedule[\"Finish\"][-1]))\n",
    "            schedule[\"Finish\"].append(schedule[\"Start\"][-1] + task_times[machine])\n",
    "            schedule[\"machine\"].append(machine+1)\n",
    "            machines_in_times[machine] = schedule[\"Finish\"][-1]\n",
    "    return pd.DataFrame.from_dict(schedule), schedule[\"Finish\"][-1]"
   ]
  },
  {
   "cell_type": "code",
   "execution_count": 259,
   "metadata": {},
   "outputs": [
    {
     "name": "stdout",
     "output_type": "stream",
     "text": [
      "Average Cmax for 5 tasks and 2 machines:  37.95\n",
      "Average Cmax for 10 tasks and 3 machines:  80.9\n",
      "Average Cmax for 15 tasks and 4 machines:  118.7\n"
     ]
    }
   ],
   "source": [
    "results = np.zeros(shape=(60,))\n",
    "for inx, set in enumerate(small_datasets):\n",
    "    n, m, p = set\n",
    "    results[inx] = HSDF(n,m,p)[1]\n",
    "\n",
    "set_1_mean = np.mean(results[:20])\n",
    "set_2_mean = np.mean(results[20:40])\n",
    "set_3_mean = np.mean(results[40:])\n",
    "\n",
    "print(\"Average Cmax for 5 tasks and 2 machines: \", set_1_mean)\n",
    "print(\"Average Cmax for 10 tasks and 3 machines: \", set_2_mean)\n",
    "print(\"Average Cmax for 15 tasks and 4 machines: \", set_3_mean)\n",
    "\n",
    "small_means = [set_1_mean, set_2_mean, set_3_mean]"
   ]
  },
  {
   "cell_type": "code",
   "execution_count": 260,
   "metadata": {},
   "outputs": [
    {
     "name": "stdout",
     "output_type": "stream",
     "text": [
      "Average Cmax for 20 tasks and 5 machines:  238.55\n",
      "Average Cmax for 30 tasks and 6 machines:  352.3\n",
      "Average Cmax for 50 tasks and 7 machines:  558.65\n"
     ]
    }
   ],
   "source": [
    "results = np.zeros(shape=(60,))\n",
    "for inx, set in enumerate(medium_datasets):\n",
    "    n, m, p = set\n",
    "    results[inx] = HSDF(n,m,p)[1]\n",
    "\n",
    "set_1_mean = np.mean(results[:20])\n",
    "set_2_mean = np.mean(results[20:40])\n",
    "set_3_mean = np.mean(results[40:])\n",
    "\n",
    "print(\"Average Cmax for 20 tasks and 5 machines: \", set_1_mean)\n",
    "print(\"Average Cmax for 30 tasks and 6 machines: \", set_2_mean)\n",
    "print(\"Average Cmax for 50 tasks and 7 machines: \", set_3_mean)\n",
    "\n",
    "medium_means = [set_1_mean, set_2_mean, set_3_mean]"
   ]
  },
  {
   "cell_type": "code",
   "execution_count": 261,
   "metadata": {},
   "outputs": [
    {
     "name": "stdout",
     "output_type": "stream",
     "text": [
      "Average Cmax for 60 tasks and 8 machines:  1088.2\n",
      "Average Cmax for 75 tasks and 9 machines:  1333.75\n",
      "Average Cmax for 100 tasks and 10 machines:  1750.15\n"
     ]
    }
   ],
   "source": [
    "results = np.zeros(shape=(60,))\n",
    "for inx, set in enumerate(large_datasets):\n",
    "    n, m, p = set\n",
    "    results[inx] = HSDF(n,m,p)[1]\n",
    "\n",
    "set_1_mean = np.mean(results[:20])\n",
    "set_2_mean = np.mean(results[20:40])\n",
    "set_3_mean = np.mean(results[40:])\n",
    "\n",
    "print(\"Average Cmax for 60 tasks and 8 machines: \", set_1_mean)\n",
    "print(\"Average Cmax for 75 tasks and 9 machines: \", set_2_mean)\n",
    "print(\"Average Cmax for 100 tasks and 10 machines: \", set_3_mean)\n",
    "\n",
    "large_means = [set_1_mean, set_2_mean, set_3_mean]"
   ]
  },
  {
   "cell_type": "code",
   "execution_count": 265,
   "metadata": {},
   "outputs": [],
   "source": [
    "hsdf_results = small_means + medium_means + large_means"
   ]
  },
  {
   "attachments": {},
   "cell_type": "markdown",
   "metadata": {},
   "source": [
    "# Lowest standard deviation first #"
   ]
  },
  {
   "cell_type": "code",
   "execution_count": 263,
   "metadata": {},
   "outputs": [],
   "source": [
    "def LSDF(n: int, m: int, P: Dict[int, List[int]]) -> pd.DataFrame:\n",
    "    \n",
    "    sorted_jobs = {k: v for k, v in sorted(P.items(), key=lambda x: np.std(x[1]))}\n",
    "    schedule = dict()\n",
    "    schedule[\"job\"] = []\n",
    "    schedule[\"Start\"] = []\n",
    "    schedule[\"Finish\"] = []\n",
    "    schedule[\"machine\"] = []\n",
    "\n",
    "    machines_in_times = [0 for machine in range(m)]\n",
    "    for inx, (job, task_times) in enumerate(sorted_jobs.items()):\n",
    "        # we can setup first machine times, becuase it is independent\n",
    "        schedule[\"job\"].append(job)\n",
    "        schedule[\"Start\"].append(machines_in_times[0]) # machines_in_times[0] of actual in_time for first machine\n",
    "        schedule[\"Finish\"].append(schedule[\"Start\"][-1] + task_times[0])\n",
    "        schedule[\"machine\"].append(1)\n",
    "        machines_in_times[0] = schedule[\"Finish\"][-1]        \n",
    "\n",
    "        # iterate over the rest machines. Each machine is dependent on the previous one\n",
    "        for machine in range (1, len(task_times)):\n",
    "            schedule[\"job\"].append(job)\n",
    "            schedule[\"Start\"].append(max(machines_in_times[machine], schedule[\"Finish\"][-1]))\n",
    "            schedule[\"Finish\"].append(schedule[\"Start\"][-1] + task_times[machine])\n",
    "            schedule[\"machine\"].append(machine+1)\n",
    "            machines_in_times[machine] = schedule[\"Finish\"][-1]\n",
    "    return pd.DataFrame.from_dict(schedule), schedule[\"Finish\"][-1]"
   ]
  },
  {
   "cell_type": "code",
   "execution_count": 266,
   "metadata": {},
   "outputs": [
    {
     "name": "stdout",
     "output_type": "stream",
     "text": [
      "Average Cmax for 5 tasks and 2 machines:  38.55\n",
      "Average Cmax for 10 tasks and 3 machines:  77.1\n",
      "Average Cmax for 15 tasks and 4 machines:  118.35\n"
     ]
    }
   ],
   "source": [
    "results = np.zeros(shape=(60,))\n",
    "for inx, set in enumerate(small_datasets):\n",
    "    n, m, p = set\n",
    "    results[inx] = LSDF(n,m,p)[1]\n",
    "\n",
    "set_1_mean = np.mean(results[:20])\n",
    "set_2_mean = np.mean(results[20:40])\n",
    "set_3_mean = np.mean(results[40:])\n",
    "\n",
    "print(\"Average Cmax for 5 tasks and 2 machines: \", set_1_mean)\n",
    "print(\"Average Cmax for 10 tasks and 3 machines: \", set_2_mean)\n",
    "print(\"Average Cmax for 15 tasks and 4 machines: \", set_3_mean)\n",
    "\n",
    "small_means = [set_1_mean, set_2_mean, set_3_mean]"
   ]
  },
  {
   "cell_type": "code",
   "execution_count": 267,
   "metadata": {},
   "outputs": [
    {
     "name": "stdout",
     "output_type": "stream",
     "text": [
      "Average Cmax for 20 tasks and 5 machines:  240.25\n",
      "Average Cmax for 30 tasks and 6 machines:  345.5\n",
      "Average Cmax for 50 tasks and 7 machines:  562.85\n"
     ]
    }
   ],
   "source": [
    "results = np.zeros(shape=(60,))\n",
    "for inx, set in enumerate(medium_datasets):\n",
    "    n, m, p = set\n",
    "    results[inx] = LSDF(n,m,p)[1]\n",
    "\n",
    "set_1_mean = np.mean(results[:20])\n",
    "set_2_mean = np.mean(results[20:40])\n",
    "set_3_mean = np.mean(results[40:])\n",
    "\n",
    "print(\"Average Cmax for 20 tasks and 5 machines: \", set_1_mean)\n",
    "print(\"Average Cmax for 30 tasks and 6 machines: \", set_2_mean)\n",
    "print(\"Average Cmax for 50 tasks and 7 machines: \", set_3_mean)\n",
    "\n",
    "medium_means = [set_1_mean, set_2_mean, set_3_mean]"
   ]
  },
  {
   "cell_type": "code",
   "execution_count": 268,
   "metadata": {},
   "outputs": [
    {
     "name": "stdout",
     "output_type": "stream",
     "text": [
      "Average Cmax for 60 tasks and 8 machines:  1090.45\n",
      "Average Cmax for 75 tasks and 9 machines:  1343.05\n",
      "Average Cmax for 100 tasks and 10 machines:  1739.65\n"
     ]
    }
   ],
   "source": [
    "results = np.zeros(shape=(60,))\n",
    "for inx, set in enumerate(large_datasets):\n",
    "    n, m, p = set\n",
    "    results[inx] = LSDF(n,m,p)[1]\n",
    "\n",
    "set_1_mean = np.mean(results[:20])\n",
    "set_2_mean = np.mean(results[20:40])\n",
    "set_3_mean = np.mean(results[40:])\n",
    "\n",
    "print(\"Average Cmax for 60 tasks and 8 machines: \", set_1_mean)\n",
    "print(\"Average Cmax for 75 tasks and 9 machines: \", set_2_mean)\n",
    "print(\"Average Cmax for 100 tasks and 10 machines: \", set_3_mean)\n",
    "\n",
    "large_means = [set_1_mean, set_2_mean, set_3_mean]"
   ]
  },
  {
   "cell_type": "code",
   "execution_count": 269,
   "metadata": {},
   "outputs": [],
   "source": [
    "lsdf_results = small_means + medium_means + large_means\n"
   ]
  },
  {
   "attachments": {},
   "cell_type": "markdown",
   "metadata": {},
   "source": [
    "# Comparison #"
   ]
  },
  {
   "cell_type": "code",
   "execution_count": 276,
   "metadata": {},
   "outputs": [],
   "source": [
    "results = dict()\n",
    "results['Machines'] = [2,3,4,5,6,7,8,9,10]\n",
    "results['Tasks'] = [5,10,15,20,30,50,60,75,100]\n",
    "results['LTTF'] = lttf_results\n",
    "results['STTF'] = sttf_results\n",
    "results['HSDF'] = hsdf_results\n",
    "results['LSDF'] = lsdf_results\n",
    "\n",
    "df = pd.DataFrame.from_dict(results)\n"
   ]
  },
  {
   "cell_type": "code",
   "execution_count": 277,
   "metadata": {},
   "outputs": [
    {
     "data": {
      "text/html": [
       "<div>\n",
       "<style scoped>\n",
       "    .dataframe tbody tr th:only-of-type {\n",
       "        vertical-align: middle;\n",
       "    }\n",
       "\n",
       "    .dataframe tbody tr th {\n",
       "        vertical-align: top;\n",
       "    }\n",
       "\n",
       "    .dataframe thead th {\n",
       "        text-align: right;\n",
       "    }\n",
       "</style>\n",
       "<table border=\"1\" class=\"dataframe\">\n",
       "  <thead>\n",
       "    <tr style=\"text-align: right;\">\n",
       "      <th></th>\n",
       "      <th>Machines</th>\n",
       "      <th>Tasks</th>\n",
       "      <th>LTTF</th>\n",
       "      <th>STTF</th>\n",
       "      <th>HSDF</th>\n",
       "      <th>LSDF</th>\n",
       "    </tr>\n",
       "  </thead>\n",
       "  <tbody>\n",
       "    <tr>\n",
       "      <th>0</th>\n",
       "      <td>2</td>\n",
       "      <td>5</td>\n",
       "      <td>37.70</td>\n",
       "      <td>38.50</td>\n",
       "      <td>37.95</td>\n",
       "      <td>38.55</td>\n",
       "    </tr>\n",
       "    <tr>\n",
       "      <th>1</th>\n",
       "      <td>3</td>\n",
       "      <td>10</td>\n",
       "      <td>81.40</td>\n",
       "      <td>79.40</td>\n",
       "      <td>80.90</td>\n",
       "      <td>77.10</td>\n",
       "    </tr>\n",
       "    <tr>\n",
       "      <th>2</th>\n",
       "      <td>4</td>\n",
       "      <td>15</td>\n",
       "      <td>120.50</td>\n",
       "      <td>120.20</td>\n",
       "      <td>118.70</td>\n",
       "      <td>118.35</td>\n",
       "    </tr>\n",
       "    <tr>\n",
       "      <th>3</th>\n",
       "      <td>5</td>\n",
       "      <td>20</td>\n",
       "      <td>244.00</td>\n",
       "      <td>236.70</td>\n",
       "      <td>238.55</td>\n",
       "      <td>240.25</td>\n",
       "    </tr>\n",
       "    <tr>\n",
       "      <th>4</th>\n",
       "      <td>6</td>\n",
       "      <td>30</td>\n",
       "      <td>354.55</td>\n",
       "      <td>352.05</td>\n",
       "      <td>352.30</td>\n",
       "      <td>345.50</td>\n",
       "    </tr>\n",
       "    <tr>\n",
       "      <th>5</th>\n",
       "      <td>7</td>\n",
       "      <td>50</td>\n",
       "      <td>555.40</td>\n",
       "      <td>554.90</td>\n",
       "      <td>558.65</td>\n",
       "      <td>562.85</td>\n",
       "    </tr>\n",
       "    <tr>\n",
       "      <th>6</th>\n",
       "      <td>8</td>\n",
       "      <td>60</td>\n",
       "      <td>1082.35</td>\n",
       "      <td>1084.40</td>\n",
       "      <td>1088.20</td>\n",
       "      <td>1090.45</td>\n",
       "    </tr>\n",
       "    <tr>\n",
       "      <th>7</th>\n",
       "      <td>9</td>\n",
       "      <td>75</td>\n",
       "      <td>1337.75</td>\n",
       "      <td>1338.20</td>\n",
       "      <td>1333.75</td>\n",
       "      <td>1343.05</td>\n",
       "    </tr>\n",
       "    <tr>\n",
       "      <th>8</th>\n",
       "      <td>10</td>\n",
       "      <td>100</td>\n",
       "      <td>1737.15</td>\n",
       "      <td>1740.00</td>\n",
       "      <td>1750.15</td>\n",
       "      <td>1739.65</td>\n",
       "    </tr>\n",
       "  </tbody>\n",
       "</table>\n",
       "</div>"
      ],
      "text/plain": [
       "   Machines  Tasks     LTTF     STTF     HSDF     LSDF\n",
       "0         2      5    37.70    38.50    37.95    38.55\n",
       "1         3     10    81.40    79.40    80.90    77.10\n",
       "2         4     15   120.50   120.20   118.70   118.35\n",
       "3         5     20   244.00   236.70   238.55   240.25\n",
       "4         6     30   354.55   352.05   352.30   345.50\n",
       "5         7     50   555.40   554.90   558.65   562.85\n",
       "6         8     60  1082.35  1084.40  1088.20  1090.45\n",
       "7         9     75  1337.75  1338.20  1333.75  1343.05\n",
       "8        10    100  1737.15  1740.00  1750.15  1739.65"
      ]
     },
     "execution_count": 277,
     "metadata": {},
     "output_type": "execute_result"
    }
   ],
   "source": [
    "df"
   ]
  },
  {
   "cell_type": "code",
   "execution_count": null,
   "metadata": {},
   "outputs": [],
   "source": []
  }
 ],
 "metadata": {
  "kernelspec": {
   "display_name": "base",
   "language": "python",
   "name": "python3"
  },
  "language_info": {
   "codemirror_mode": {
    "name": "ipython",
    "version": 3
   },
   "file_extension": ".py",
   "mimetype": "text/x-python",
   "name": "python",
   "nbconvert_exporter": "python",
   "pygments_lexer": "ipython3",
   "version": "3.9.13"
  },
  "vscode": {
   "interpreter": {
    "hash": "e26ebc43fccf333ae5dcd559be91a2594d5ecb9b752c4827efc8e3e82da14314"
   }
  }
 },
 "nbformat": 4,
 "nbformat_minor": 4
}
