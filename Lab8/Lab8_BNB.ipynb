{
 "cells": [
  {
   "cell_type": "markdown",
   "metadata": {},
   "source": [
    "# Lab 8 - Integer Programming - BnB for MIP"
   ]
  },
  {
   "attachments": {},
   "cell_type": "markdown",
   "metadata": {},
   "source": [
    "Information on group members:\n",
    "\n",
    "1) Student ID, Name and last name <br>\n",
    "2) 148257, Daniel Jankowski"
   ]
  },
  {
   "cell_type": "code",
   "execution_count": 1,
   "metadata": {},
   "outputs": [],
   "source": [
    "from pulp import *  \n",
    "import numpy as np\n",
    "import pandas as pd"
   ]
  },
  {
   "cell_type": "markdown",
   "metadata": {},
   "source": [
    "1) Given is the below MIP problem. Note that the first 5 variables are of an integer type with specified upper bounds"
   ]
  },
  {
   "cell_type": "code",
   "execution_count": 2,
   "metadata": {},
   "outputs": [
    {
     "name": "stdout",
     "output_type": "stream",
     "text": [
      "bnb-problem:\n",
      "MAXIMIZE\n",
      "5*x1 + 10*x10 + 7*x2 + 5*x3 + 5*x4 + 5*x5 + 5*x6 + 7*x7 + 4*x8 + 9*x9 + 0\n",
      "SUBJECT TO\n",
      "baseC1: 3 x2 + 2 x3 - 3 x7 - x8 <= 10\n",
      "\n",
      "baseC2: x1 + x10 + x2 + 2 x4 - x8 + 2 x9 <= 15\n",
      "\n",
      "baseC3: 2 x3 - 2 x4 + 3 x5 - 2 x7 + 2 x8 + x9 <= 20\n",
      "\n",
      "baseC4: x10 + 2 x3 - x6 <= 20\n",
      "\n",
      "baseC5: x10 + 2 x2 - 2 x6 <= 30\n",
      "\n",
      "baseC6: x1 + 4 x2 - 3 x7 + 6 x8 + 2 x9 <= 50\n",
      "\n",
      "baseC7: 2 x1 + 2 x10 + 2 x2 + 2 x5 + 2 x6 + 2 x9 <= 40\n",
      "\n",
      "baseC8: x10 + 3 x3 - x5 + x6 - x8 <= 20\n",
      "\n",
      "baseC9: 3 x10 + 5 x5 + x7 + x8 <= 25\n",
      "\n",
      "baseC10: 2 x1 - 7 x2 + x6 + 8 x8 + 2 x9 <= 25\n",
      "\n",
      "VARIABLES\n",
      "0 <= x1 <= 5 Integer\n",
      "x10 <= 3 Continuous\n",
      "0 <= x2 <= 8 Integer\n",
      "0 <= x3 <= 4 Integer\n",
      "0 <= x4 <= 5 Integer\n",
      "0 <= x5 <= 4 Integer\n",
      "x6 <= 5 Continuous\n",
      "x7 <= 5 Continuous\n",
      "x8 <= 3 Continuous\n",
      "x9 <= 3 Continuous\n",
      "\n"
     ]
    }
   ],
   "source": [
    "def getProblem(relaxed = False):\n",
    "    \n",
    "    A = [\n",
    "        [0,3,2,0,0,0,-3,-1,0,0],\n",
    "        [1,1,0,2,0,0,0,-1,2,1],\n",
    "        [0,0,2,-2,3,0,-2,2,1,0],\n",
    "        [0,0,2,0,0,-1,0,0,0,1],\n",
    "        [0,2,0,0,0,-2,0,0,0,1],\n",
    "        [1,4,0,0,0,0,-3,6,2,0],\n",
    "        [2,2,0,0,2,2,0,0,2,2],\n",
    "        [0,0,3,0,-1,1,0,-1,0,1],\n",
    "        [0,0,0,0,5,0,1,1,0,3],\n",
    "        [2,-7,0,0,0,1,0,8,2,0]]\n",
    "    b = [10,15,20,20,30,50,40,20,25,25]\n",
    "    c = [5, 7, 5, 5, 5, 5, 7, 4, 9, 10]\n",
    "    uB = [5, 8, 4, 5, 4, 5, 5, 3, 3, 3]\n",
    "    \n",
    "    problem = LpProblem(name=\"bnb-problem\", sense=LpMaximize)\n",
    "    \n",
    "    ### 5 integers and 3 continuous (if relaxed, 8 cont.)\n",
    "    cat = ['Integer' for i in range(5)] + ['Continuous' for i in range(5)]\n",
    "    if relaxed: cat = ['Continuous' for i in range(5)] + ['Continuous' for i in range(5)]\n",
    "        \n",
    "    x = [LpVariable(name=\"x\"+ str(i+1), lowBound=0, upBound=uB[i], cat = cat[i]) for i in range(10)]\n",
    "    \n",
    "    for r in range(10):\n",
    "        expr = lpSum([x[j] * A[r][j] for j in range(10)])\n",
    "        problem += LpConstraint(e=expr, sense = -1, name = \"baseC\"+str(r+1), rhs = b[r])\n",
    "        \n",
    "    obj_func = lpSum([x[j] * c[j] for j in range(10)])\n",
    "    problem += obj_func\n",
    "    \n",
    "    return x, problem\n",
    "\n",
    "x, P = getProblem()\n",
    "print(P)"
   ]
  },
  {
   "cell_type": "markdown",
   "metadata": {},
   "source": [
    "2) The below function returns None if the problem has no feasible solutions. Otherwise, it returns a tuple: objective function values and a vector of decision variables. "
   ]
  },
  {
   "cell_type": "code",
   "execution_count": 3,
   "metadata": {},
   "outputs": [],
   "source": [
    "def getSolution(x, problem):\n",
    "    status = problem.solve()\n",
    "    if problem.status != 1: return None\n",
    "    return problem.objective.value(), [_.value() for _ in x]"
   ]
  },
  {
   "cell_type": "markdown",
   "metadata": {},
   "source": [
    "3) PuLP can solve MIP problems. Hence, the \"relaxed\" flag can be set to False. Solve the problem and analyze the obtained outcome.  "
   ]
  },
  {
   "cell_type": "code",
   "execution_count": 4,
   "metadata": {},
   "outputs": [
    {
     "name": "stdout",
     "output_type": "stream",
     "text": [
      "(207.0, [3.0, 6.0, 4.0, 1.0, 1.0, 5.0, 5.0, 3.0, 2.0, 3.0])\n"
     ]
    }
   ],
   "source": [
    "x, problem = getProblem(relaxed = False)\n",
    "print(getSolution(x, problem))"
   ]
  },
  {
   "cell_type": "markdown",
   "metadata": {},
   "source": [
    "4) Now, compare this solution with the one obtained for the relaxed LP problem: "
   ]
  },
  {
   "cell_type": "code",
   "execution_count": 5,
   "metadata": {},
   "outputs": [
    {
     "name": "stdout",
     "output_type": "stream",
     "text": [
      "(211.33333355000002, [0.73333333, 6.6666667, 4.0, 0.8, 1.6, 5.0, 5.0, 3.0, 3.0, 3.0])\n"
     ]
    }
   ],
   "source": [
    "x, problem = getProblem(relaxed = True)\n",
    "print(getSolution(x, problem))"
   ]
  },
  {
   "cell_type": "markdown",
   "metadata": {},
   "source": [
    "5) Your task is to implement the Branch and Bound Algorithm for solving MIP problems. You can use the PuLP library for solving the relaxed LP subproblems. <br>\n",
    "<ul> \n",
    "    <li> Firstly, as a node selection policy, implement the default DFS-like strategy as shown in the lecture (generate both children in one iteration; prioritize the left children, i.e., associated with the \"<=\" constraint). As for the variable selection policy, take the one with the lowest index  (default, arbitrary selection). \n",
    "<li> Identify how many LP relaxed problems have to be solved to find the optimum. Note that such a number was reported to be 35 for the default policies. However, it may vary slightly for different solvers due to possible multiple sub-optima.\n",
    "<li> Propose at least 3 new node and variable selection policies with the aim of minimizing the number of solver runs required to reach the optimum.  Try getting below 20. \n",
    "    </ul>"
   ]
  },
  {
   "cell_type": "code",
   "execution_count": 71,
   "metadata": {},
   "outputs": [
    {
     "name": "stdout",
     "output_type": "stream",
     "text": [
      "Number of LP relaxed problems solved: 96\n",
      "Optimal solution value: 207.0\n",
      "Variables values:  [3.0, 6.0, 4.0, 1.0, 1.0, 5.0, 5.0, 3.0, 2.0, 3.0]\n"
     ]
    }
   ],
   "source": [
    "from math import floor, ceil\n",
    "\n",
    "var_mip, _ = getProblem(relaxed=False) # get MIP problem to save information about integer/continuous variables\n",
    "integer_vars_inx = [i for i in range(len(var_mip)) if var_mip[i].cat==\"Integer\"] # indiced of integer variables\n",
    "\n",
    "x, P = getProblem(relaxed=True) # get initial relaxed problem to be solved as a first step\n",
    "\n",
    "# Create a queue to store the nodes of the branch and bound tree\n",
    "nodes = []\n",
    "\n",
    "#best found objective value and variables values\n",
    "best_solution_value = -float('inf')\n",
    "best_solution_vars = []\n",
    "\n",
    "# Add the root node to the queue\n",
    "nodes.append(P)\n",
    "\n",
    "# Keep track of the number of LP relaxed problems solved\n",
    "subproblems_solved = 0\n",
    "\n",
    "while nodes:\n",
    "    # Pop the next node from the queue\n",
    "    node = nodes.pop()\n",
    "    # Check if the LP relaxation has a feasible solution\n",
    "    if getSolution(x, node):\n",
    "        \n",
    "        problem_objective, vars_values = getSolution(x, node)\n",
    "        subproblems_solved += 1\n",
    "        \n",
    "        # Check if the LP relaxation has an integer feasible solution\n",
    "        if all(vars_values[inx].is_integer() for inx in integer_vars_inx):\n",
    "            if problem_objective > best_solution_value:\n",
    "                best_solution_value = problem_objective\n",
    "                best_solution_vars = vars_values\n",
    "        else:\n",
    "            \n",
    "            # feasible solution but it is not integer\n",
    "            var_to_branch_on = None\n",
    "            for inx in integer_vars_inx: \n",
    "                if not vars_values[inx].is_integer(): # take first possible variable which should has integer value but doesn't have\n",
    "                    var_to_branch_on = inx\n",
    "                    break\n",
    "            if var_to_branch_on is not None:\n",
    "                # Generate the right child (associated with the \">=\" constraint)\n",
    "                right_child = node.copy()\n",
    "                right_child += x[inx] >= ceil(x[inx].value())\n",
    "                nodes.append(right_child)\n",
    "                \n",
    "                # Generate the left child (associated with the \"<=\" constraint)\n",
    "                left_child = node.copy()\n",
    "                left_child += x[inx] <= floor(x[inx].value())\n",
    "                nodes.append(left_child)\n",
    "                # add left child at the end, because we want to prioritize left one (this one will be poped from the list earlier)\n",
    "\n",
    "print(\"Number of LP relaxed problems solved:\", subproblems_solved)\n",
    "\n",
    "print(\"Optimal solution value:\", best_solution_value)\n",
    "print(\"Variables values: \", best_solution_vars)\n"
   ]
  },
  {
   "cell_type": "code",
   "execution_count": null,
   "metadata": {},
   "outputs": [],
   "source": [
    "#TODO: Trzy inne opcje splitowania\n",
    "#TODO: debugging bo duzo iteracji xd\n"
   ]
  }
 ],
 "metadata": {
  "kernelspec": {
   "display_name": "base",
   "language": "python",
   "name": "python3"
  },
  "language_info": {
   "codemirror_mode": {
    "name": "ipython",
    "version": 3
   },
   "file_extension": ".py",
   "mimetype": "text/x-python",
   "name": "python",
   "nbconvert_exporter": "python",
   "pygments_lexer": "ipython3",
   "version": "3.9.12"
  },
  "vscode": {
   "interpreter": {
    "hash": "83b7306612463b8ce62aa8cf15caec34be977b39f148b1fffc59f78ab402fac8"
   }
  }
 },
 "nbformat": 4,
 "nbformat_minor": 4
}
